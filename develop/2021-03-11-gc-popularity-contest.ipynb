{
 "cells": [
  {
   "cell_type": "code",
   "execution_count": 1,
   "id": "prepared-rubber",
   "metadata": {},
   "outputs": [],
   "source": [
    "import os\n",
    "from os.path import join\n",
    "import pandas as pd\n",
    "from pathlib import Path\n",
    "import pdpipe as pdp\n",
    "import sys\n",
    "import numpy as np\n",
    "\n",
    "project_root = Path('..')\n",
    "sys.path.append(os.path.abspath(project_root))\n",
    "from notebooks.utils import init_data_dir  # noqa\n",
    "\n",
    "from notebooks.benchmarking import benchmark_profiles  # noqa\n",
    "from notebooks import pipes\n",
    "from notebooks.profiles import MahalanobisProfile\n",
    "from notebooks.feature_extractors import HeuristicExtractor, OldPOS2GramTokenExtractor, ConcatExtractor\n",
    "from notebooks.segmentation import POSSentenceTokenizer\n",
    "\n",
    "init_data_dir(project_root)\n",
    "\n",
    "preprocess_path = join(project_root, Path('data/preprocess'))\n",
    "outputs_path = join(project_root, 'outputs')\n",
    "\n",
    "train_df = pd.read_hdf(join(preprocess_path, 'bawe_train_sentences.hdf5'))\n",
    "valid_df = pd.read_hdf(join(preprocess_path, 'bawe_valid_sentences.hdf5'))"
   ]
  },
  {
   "cell_type": "code",
   "execution_count": 2,
   "id": "ignored-intervention",
   "metadata": {},
   "outputs": [],
   "source": [
    "pipeline = pipes.GroupSentences(n=50)\n",
    "\n",
    "grouped_train_df = pipeline(train_df)\n",
    "\n",
    "grouped_valid_df = pipeline(valid_df)"
   ]
  },
  {
   "cell_type": "code",
   "execution_count": 3,
   "id": "destroyed-tender",
   "metadata": {},
   "outputs": [],
   "source": [
    "# grouped_train_df = grouped_train_df.sample(frac=0.05)"
   ]
  },
  {
   "cell_type": "code",
   "execution_count": 3,
   "id": "turned-protocol",
   "metadata": {},
   "outputs": [
    {
     "name": "stderr",
     "output_type": "stream",
     "text": [
      "100%|##########| 116050/116050 [16:02<00:00, 120.53it/s]\n"
     ]
    },
    {
     "data": {
      "text/html": [
       "<div>\n",
       "<style scoped>\n",
       "    .dataframe tbody tr th:only-of-type {\n",
       "        vertical-align: middle;\n",
       "    }\n",
       "\n",
       "    .dataframe tbody tr th {\n",
       "        vertical-align: top;\n",
       "    }\n",
       "\n",
       "    .dataframe thead th {\n",
       "        text-align: right;\n",
       "    }\n",
       "</style>\n",
       "<table border=\"1\" class=\"dataframe\">\n",
       "  <thead>\n",
       "    <tr style=\"text-align: right;\">\n",
       "      <th></th>\n",
       "      <th></th>\n",
       "      <th></th>\n",
       "      <th></th>\n",
       "      <th>sentence</th>\n",
       "    </tr>\n",
       "    <tr>\n",
       "      <th>author</th>\n",
       "      <th>text_id</th>\n",
       "      <th>group_position</th>\n",
       "      <th>sentence_position</th>\n",
       "      <th></th>\n",
       "    </tr>\n",
       "  </thead>\n",
       "  <tbody>\n",
       "    <tr>\n",
       "      <th rowspan=\"5\" valign=\"top\">1</th>\n",
       "      <th rowspan=\"5\" valign=\"top\">1</th>\n",
       "      <th rowspan=\"5\" valign=\"top\">0</th>\n",
       "      <th>0</th>\n",
       "      <td>[SCONJ, DET, ADJ, NOUN, DET, NOUN, ADP, NOUN, ...</td>\n",
       "    </tr>\n",
       "    <tr>\n",
       "      <th>1</th>\n",
       "      <td>[ADV, NOUN, AUX, VERB, ADP, DET, ADJ, NOUN, PU...</td>\n",
       "    </tr>\n",
       "    <tr>\n",
       "      <th>2</th>\n",
       "      <td>[DET, NOUN, ADP, NOUN, AUX, VERB, ADJ, NOUN, A...</td>\n",
       "    </tr>\n",
       "    <tr>\n",
       "      <th>3</th>\n",
       "      <td>[DET, ADV, ADJ, PUNCT, CCONJ, ADP, NOUN, ADP, ...</td>\n",
       "    </tr>\n",
       "    <tr>\n",
       "      <th>4</th>\n",
       "      <td>[ADV, PRON, AUX, ADV, VERB, DET, NOUN, DET, NO...</td>\n",
       "    </tr>\n",
       "    <tr>\n",
       "      <th>...</th>\n",
       "      <th>...</th>\n",
       "      <th>...</th>\n",
       "      <th>...</th>\n",
       "      <td>...</td>\n",
       "    </tr>\n",
       "    <tr>\n",
       "      <th rowspan=\"5\" valign=\"top\">6998</th>\n",
       "      <th rowspan=\"5\" valign=\"top\">0</th>\n",
       "      <th rowspan=\"5\" valign=\"top\">1</th>\n",
       "      <th>45</th>\n",
       "      <td>[NUM, PUNCT, NOUN, PUNCT, PROPN, PROPN, PROPN,...</td>\n",
       "    </tr>\n",
       "    <tr>\n",
       "      <th>46</th>\n",
       "      <td>[X, INTJ]</td>\n",
       "    </tr>\n",
       "    <tr>\n",
       "      <th>47</th>\n",
       "      <td>[X]</td>\n",
       "    </tr>\n",
       "    <tr>\n",
       "      <th>48</th>\n",
       "      <td>[DET, NOUN, VERB, SCONJ, DET, ADJ, NOUN, ADP, ...</td>\n",
       "    </tr>\n",
       "    <tr>\n",
       "      <th>49</th>\n",
       "      <td>[PROPN, PART, NOUN, ADP, PROPN, PUNCT, ADP, SC...</td>\n",
       "    </tr>\n",
       "  </tbody>\n",
       "</table>\n",
       "<p>116050 rows × 1 columns</p>\n",
       "</div>"
      ],
      "text/plain": [
       "                                                                                          sentence\n",
       "author text_id group_position sentence_position                                                   \n",
       "1      1       0              0                  [SCONJ, DET, ADJ, NOUN, DET, NOUN, ADP, NOUN, ...\n",
       "                              1                  [ADV, NOUN, AUX, VERB, ADP, DET, ADJ, NOUN, PU...\n",
       "                              2                  [DET, NOUN, ADP, NOUN, AUX, VERB, ADJ, NOUN, A...\n",
       "                              3                  [DET, ADV, ADJ, PUNCT, CCONJ, ADP, NOUN, ADP, ...\n",
       "                              4                  [ADV, PRON, AUX, ADV, VERB, DET, NOUN, DET, NO...\n",
       "...                                                                                            ...\n",
       "6998   0       1              45                 [NUM, PUNCT, NOUN, PUNCT, PROPN, PROPN, PROPN,...\n",
       "                              46                                                         [X, INTJ]\n",
       "                              47                                                               [X]\n",
       "                              48                 [DET, NOUN, VERB, SCONJ, DET, ADJ, NOUN, ADP, ...\n",
       "                              49                 [PROPN, PART, NOUN, ADP, PROPN, PUNCT, ADP, SC...\n",
       "\n",
       "[116050 rows x 1 columns]"
      ]
     },
     "execution_count": 3,
     "metadata": {},
     "output_type": "execute_result"
    }
   ],
   "source": [
    "sentence_tokenizer = POSSentenceTokenizer()\n",
    "\n",
    "tokenized_sentences = sentence_tokenizer.tokenize_list(grouped_train_df['sentence'].to_list(), \n",
    "                                                       show_loading=True)\n",
    "\n",
    "grouped_train_df['sentence'] = tokenized_sentences\n",
    "\n",
    "grouped_train_df"
   ]
  },
  {
   "cell_type": "code",
   "execution_count": 6,
   "id": "critical-currency",
   "metadata": {},
   "outputs": [],
   "source": [
    "bigram_extractor = OldPOS2GramTokenExtractor()\n",
    "\n",
    "bigram_matrix = bigram_extractor(grouped_train_df['sentence'].to_list())"
   ]
  },
  {
   "cell_type": "code",
   "execution_count": 4,
   "id": "ordinary-difficulty",
   "metadata": {},
   "outputs": [],
   "source": [
    "# grouped_train_df['sentence'] = bigram_matrix"
   ]
  },
  {
   "cell_type": "code",
   "execution_count": 5,
   "id": "quality-recovery",
   "metadata": {},
   "outputs": [],
   "source": [
    "# grouped_train_df"
   ]
  },
  {
   "cell_type": "code",
   "execution_count": 17,
   "id": "disabled-ownership",
   "metadata": {},
   "outputs": [],
   "source": [
    "bigram_means = np.mean(bigram_matrix, axis=0)\n",
    "\n",
    "sorted_indices = np.flip(np.argsort(bigram_means))"
   ]
  },
  {
   "cell_type": "code",
   "execution_count": 21,
   "id": "painted-deviation",
   "metadata": {},
   "outputs": [
    {
     "data": {
      "text/plain": [
       "array([[  0,   1,   2,   3,   4,   5,   6,   7,   8,   9,  10,  11,  12,\n",
       "         13,  14,  15,  16,  17],\n",
       "       [ 18,  19,  20,  21,  22,  23,  24,  25,  26,  27,  28,  29,  30,\n",
       "         31,  32,  33,  34,  35],\n",
       "       [ 36,  37,  38,  39,  40,  41,  42,  43,  44,  45,  46,  47,  48,\n",
       "         49,  50,  51,  52,  53],\n",
       "       [ 54,  55,  56,  57,  58,  59,  60,  61,  62,  63,  64,  65,  66,\n",
       "         67,  68,  69,  70,  71],\n",
       "       [ 72,  73,  74,  75,  76,  77,  78,  79,  80,  81,  82,  83,  84,\n",
       "         85,  86,  87,  88,  89],\n",
       "       [ 90,  91,  92,  93,  94,  95,  96,  97,  98,  99, 100, 101, 102,\n",
       "        103, 104, 105, 106, 107],\n",
       "       [108, 109, 110, 111, 112, 113, 114, 115, 116, 117, 118, 119, 120,\n",
       "        121, 122, 123, 124, 125],\n",
       "       [126, 127, 128, 129, 130, 131, 132, 133, 134, 135, 136, 137, 138,\n",
       "        139, 140, 141, 142, 143],\n",
       "       [144, 145, 146, 147, 148, 149, 150, 151, 152, 153, 154, 155, 156,\n",
       "        157, 158, 159, 160, 161],\n",
       "       [162, 163, 164, 165, 166, 167, 168, 169, 170, 171, 172, 173, 174,\n",
       "        175, 176, 177, 178, 179],\n",
       "       [180, 181, 182, 183, 184, 185, 186, 187, 188, 189, 190, 191, 192,\n",
       "        193, 194, 195, 196, 197],\n",
       "       [198, 199, 200, 201, 202, 203, 204, 205, 206, 207, 208, 209, 210,\n",
       "        211, 212, 213, 214, 215],\n",
       "       [216, 217, 218, 219, 220, 221, 222, 223, 224, 225, 226, 227, 228,\n",
       "        229, 230, 231, 232, 233],\n",
       "       [234, 235, 236, 237, 238, 239, 240, 241, 242, 243, 244, 245, 246,\n",
       "        247, 248, 249, 250, 251],\n",
       "       [252, 253, 254, 255, 256, 257, 258, 259, 260, 261, 262, 263, 264,\n",
       "        265, 266, 267, 268, 269],\n",
       "       [270, 271, 272, 273, 274, 275, 276, 277, 278, 279, 280, 281, 282,\n",
       "        283, 284, 285, 286, 287],\n",
       "       [288, 289, 290, 291, 292, 293, 294, 295, 296, 297, 298, 299, 300,\n",
       "        301, 302, 303, 304, 305],\n",
       "       [306, 307, 308, 309, 310, 311, 312, 313, 314, 315, 316, 317, 318,\n",
       "        319, 320, 321, 322, 323]])"
      ]
     },
     "execution_count": 21,
     "metadata": {},
     "output_type": "execute_result"
    }
   ],
   "source": [
    "np.reshape(np.arange(bigram_matrix.shape[1]), [18, 18])"
   ]
  },
  {
   "cell_type": "code",
   "execution_count": 16,
   "id": "blond-survey",
   "metadata": {},
   "outputs": [
    {
     "data": {
      "text/plain": [
       "array([ 97, 127, 138,   7,  23,  25, 133,  90, 289,  70, 293, 129, 210,\n",
       "       142, 178, 130, 209, 295,  18, 227, 228, 223, 156,  29, 288,  52,\n",
       "       221, 183, 300, 196,  79, 224, 101, 232,  36, 135,  12, 106,   0,\n",
       "        56,   1,  48,  28, 290, 323, 220, 297,  34, 217, 187, 151, 298,\n",
       "       131, 216, 239, 301, 128,  57,  88, 205,  72, 218, 202, 226,  77,\n",
       "       199, 214,  26,  37,  83,  63,  93,  59,   4,  41,  54, 317,  38,\n",
       "       169, 322, 244, 206, 207, 201,  74, 139, 305, 134, 126, 136,  92,\n",
       "        30, 233,   9, 180,  19, 292, 219, 299, 259, 102, 140, 229, 241,\n",
       "        46, 137, 313,  98, 318, 165, 304, 192,  82, 143,  13,  20, 278,\n",
       "        39, 296, 145,  73, 162,  95,  91,  43,  11, 182, 164, 234, 161,\n",
       "       181, 159, 215, 235,  75, 144,  49,  16, 245, 155,  55,  80, 100,\n",
       "       148, 152, 225, 200, 291, 174,  44, 160,  66, 230,   2,  84, 246,\n",
       "        61, 312,  45,  40, 250, 189,  47,  67,   8,  81, 185, 203, 167,\n",
       "        85, 236,  62,  64,  22, 247, 141, 173,   5, 277, 190,   3, 311,\n",
       "       198, 147,  32, 242,  27, 269, 120, 306,  31, 213, 208,  21, 146,\n",
       "       184, 191, 149, 307, 281, 163, 268, 222, 302,  65, 170, 153, 255,\n",
       "        10, 125, 211, 171, 253,  33, 314, 243, 308, 264, 256, 212, 316,\n",
       "       248,  86, 193,  50, 263,  99, 270, 303,  58, 254,  15, 231,  35,\n",
       "       238,  94, 166, 107, 157, 154, 172, 188, 309,  17, 104,  53, 237,\n",
       "       115, 103, 286, 319,  89, 310, 132,  68, 287, 321, 282, 158, 257,\n",
       "       124, 195, 265, 105, 260,  76, 197, 280,  51, 315, 252,  14, 113,\n",
       "       175,  87, 251, 118, 294, 119,  69, 150,  78, 204, 262, 179, 320,\n",
       "       110, 284, 109, 108,  71, 112, 261,  24, 274, 273, 267, 116, 111,\n",
       "       271, 177, 114, 275, 276, 285,  96,  42,  60, 249,   6, 272, 194,\n",
       "       176, 240, 121, 123, 168, 186, 279, 117, 258, 122, 266, 283])"
      ]
     },
     "execution_count": 16,
     "metadata": {},
     "output_type": "execute_result"
    }
   ],
   "source": [
    "sorted_indices"
   ]
  },
  {
   "cell_type": "code",
   "execution_count": 27,
   "id": "binary-transsexual",
   "metadata": {},
   "outputs": [
    {
     "data": {
      "text/plain": [
       "array([1.36292977, 1.34356743, 1.28274882, 1.19939681, 1.03973287,\n",
       "       0.60799655, 0.58798794, 0.57928479, 0.57735459, 0.53457131,\n",
       "       0.48220595, 0.46037053, 0.43155536, 0.40498923, 0.34790177,\n",
       "       0.33040069, 0.31571736, 0.28701422, 0.28251616, 0.27965532,\n",
       "       0.26696252, 0.26181818, 0.2496941 , 0.2214735 , 0.21445928,\n",
       "       0.21146919, 0.21124515, 0.21121069, 0.19103835, 0.17193451,\n",
       "       0.16771219, 0.16188712, 0.1617751 , 0.16021542, 0.15523481,\n",
       "       0.15338216, 0.15090047, 0.14846187, 0.14788453, 0.14566135,\n",
       "       0.14455838, 0.14413615, 0.14400689, 0.13901766, 0.13398535,\n",
       "       0.13221887, 0.13171047, 0.13061611, 0.12849634, 0.1283757 ])"
      ]
     },
     "execution_count": 27,
     "metadata": {},
     "output_type": "execute_result"
    }
   ],
   "source": [
    "bigram_means[sorted_indices]\n",
    "\n",
    "bigram_means[sorted_indices][:50]"
   ]
  },
  {
   "cell_type": "code",
   "execution_count": 28,
   "id": "computational-trigger",
   "metadata": {},
   "outputs": [
    {
     "data": {
      "text/plain": [
       "array([ 97, 127, 138,   7,  23,  25, 133,  90, 289,  70, 293, 129, 210,\n",
       "       142, 178, 130, 209, 295,  18, 227, 228, 223, 156,  29, 288,  52,\n",
       "       221, 183, 300, 196,  79, 224, 101, 232,  36, 135,  12, 106,   0,\n",
       "        56,   1,  48,  28, 290, 323, 220, 297,  34, 217, 187])"
      ]
     },
     "execution_count": 28,
     "metadata": {},
     "output_type": "execute_result"
    }
   ],
   "source": [
    "sorted_indices[:50]"
   ]
  },
  {
   "cell_type": "code",
   "execution_count": 30,
   "id": "amended-slope",
   "metadata": {},
   "outputs": [],
   "source": [
    "np.save('../notebooks/resources/best_bigrams.npy', sorted_indices)"
   ]
  },
  {
   "cell_type": "code",
   "execution_count": 3,
   "id": "medieval-calculation",
   "metadata": {},
   "outputs": [],
   "source": [
    "# pospca_extractor = POSPCAExtractor(25, 10)\n",
    "# pospca_profile = MahalanobisProfile(pospca_extractor)\n",
    "\n",
    "heuristics_extractor = HeuristicExtractor(4)\n",
    "heuristics_profile = MahalanobisProfile(heuristics_extractor)\n",
    "\n",
    "# pos2gram_extractor = POS2GramExtractor(paragraph_length=1)\n",
    "# pos2gram_profile = MahalanobisProfile(pos2gram_extractor)\n",
    "\n",
    "# combined_extractor = ConcatExtractor(heuristics_extractor, pos2gram_extractor)\n",
    "# combined_profile = MahalanobisProfile(combined_extractor)\n",
    "\n",
    "profiles = [heuristics_profile]\n",
    "profile_names = ['Heuristics']"
   ]
  },
  {
   "cell_type": "code",
   "execution_count": 4,
   "id": "vital-tours",
   "metadata": {},
   "outputs": [
    {
     "name": "stderr",
     "output_type": "stream",
     "text": [
      "100%|##########| 10/10 [08:03<00:00, 48.31s/it]\n"
     ]
    },
    {
     "data": {
      "text/html": [
       "<div>\n",
       "<style scoped>\n",
       "    .dataframe tbody tr th:only-of-type {\n",
       "        vertical-align: middle;\n",
       "    }\n",
       "\n",
       "    .dataframe tbody tr th {\n",
       "        vertical-align: top;\n",
       "    }\n",
       "\n",
       "    .dataframe thead th {\n",
       "        text-align: right;\n",
       "    }\n",
       "</style>\n",
       "<table border=\"1\" class=\"dataframe\">\n",
       "  <thead>\n",
       "    <tr style=\"text-align: right;\">\n",
       "      <th></th>\n",
       "      <th>flag</th>\n",
       "      <th>Heuristics</th>\n",
       "    </tr>\n",
       "  </thead>\n",
       "  <tbody>\n",
       "    <tr>\n",
       "      <th>0</th>\n",
       "      <td>False</td>\n",
       "      <td>0.960581</td>\n",
       "    </tr>\n",
       "    <tr>\n",
       "      <th>1</th>\n",
       "      <td>True</td>\n",
       "      <td>0.865407</td>\n",
       "    </tr>\n",
       "    <tr>\n",
       "      <th>2</th>\n",
       "      <td>True</td>\n",
       "      <td>0.822791</td>\n",
       "    </tr>\n",
       "    <tr>\n",
       "      <th>3</th>\n",
       "      <td>True</td>\n",
       "      <td>0.353465</td>\n",
       "    </tr>\n",
       "    <tr>\n",
       "      <th>4</th>\n",
       "      <td>True</td>\n",
       "      <td>0.090379</td>\n",
       "    </tr>\n",
       "    <tr>\n",
       "      <th>...</th>\n",
       "      <td>...</td>\n",
       "      <td>...</td>\n",
       "    </tr>\n",
       "    <tr>\n",
       "      <th>657</th>\n",
       "      <td>True</td>\n",
       "      <td>0.360285</td>\n",
       "    </tr>\n",
       "    <tr>\n",
       "      <th>658</th>\n",
       "      <td>True</td>\n",
       "      <td>0.235129</td>\n",
       "    </tr>\n",
       "    <tr>\n",
       "      <th>659</th>\n",
       "      <td>True</td>\n",
       "      <td>0.261533</td>\n",
       "    </tr>\n",
       "    <tr>\n",
       "      <th>660</th>\n",
       "      <td>True</td>\n",
       "      <td>0.269341</td>\n",
       "    </tr>\n",
       "    <tr>\n",
       "      <th>661</th>\n",
       "      <td>True</td>\n",
       "      <td>0.243151</td>\n",
       "    </tr>\n",
       "  </tbody>\n",
       "</table>\n",
       "<p>662 rows × 2 columns</p>\n",
       "</div>"
      ],
      "text/plain": [
       "      flag  Heuristics\n",
       "0    False    0.960581\n",
       "1     True    0.865407\n",
       "2     True    0.822791\n",
       "3     True    0.353465\n",
       "4     True    0.090379\n",
       "..     ...         ...\n",
       "657   True    0.360285\n",
       "658   True    0.235129\n",
       "659   True    0.261533\n",
       "660   True    0.269341\n",
       "661   True    0.243151\n",
       "\n",
       "[662 rows x 2 columns]"
      ]
     },
     "execution_count": 4,
     "metadata": {},
     "output_type": "execute_result"
    }
   ],
   "source": [
    "benchmark_results = benchmark_profiles(grouped_valid_df, profiles,\n",
    "                                       show_loading=True, names=profile_names)\n",
    "\n",
    "benchmark_results"
   ]
  },
  {
   "cell_type": "code",
   "execution_count": 5,
   "id": "formed-latest",
   "metadata": {},
   "outputs": [],
   "source": [
    "benchmark_flags = benchmark_results.copy()\n",
    "\n",
    "benchmark_flags[profile_names] = benchmark_flags[profile_names] < 0.85"
   ]
  },
  {
   "cell_type": "code",
   "execution_count": 6,
   "id": "documentary-organic",
   "metadata": {},
   "outputs": [
    {
     "data": {
      "text/html": [
       "<div>\n",
       "<style scoped>\n",
       "    .dataframe tbody tr th:only-of-type {\n",
       "        vertical-align: middle;\n",
       "    }\n",
       "\n",
       "    .dataframe tbody tr th {\n",
       "        vertical-align: top;\n",
       "    }\n",
       "\n",
       "    .dataframe thead th {\n",
       "        text-align: right;\n",
       "    }\n",
       "</style>\n",
       "<table border=\"1\" class=\"dataframe\">\n",
       "  <thead>\n",
       "    <tr style=\"text-align: right;\">\n",
       "      <th></th>\n",
       "      <th>flag</th>\n",
       "      <th>Heuristics</th>\n",
       "    </tr>\n",
       "  </thead>\n",
       "  <tbody>\n",
       "    <tr>\n",
       "      <th>0</th>\n",
       "      <td>False</td>\n",
       "      <td>False</td>\n",
       "    </tr>\n",
       "    <tr>\n",
       "      <th>1</th>\n",
       "      <td>True</td>\n",
       "      <td>False</td>\n",
       "    </tr>\n",
       "    <tr>\n",
       "      <th>2</th>\n",
       "      <td>True</td>\n",
       "      <td>True</td>\n",
       "    </tr>\n",
       "    <tr>\n",
       "      <th>3</th>\n",
       "      <td>True</td>\n",
       "      <td>True</td>\n",
       "    </tr>\n",
       "    <tr>\n",
       "      <th>4</th>\n",
       "      <td>True</td>\n",
       "      <td>True</td>\n",
       "    </tr>\n",
       "    <tr>\n",
       "      <th>...</th>\n",
       "      <td>...</td>\n",
       "      <td>...</td>\n",
       "    </tr>\n",
       "    <tr>\n",
       "      <th>657</th>\n",
       "      <td>True</td>\n",
       "      <td>True</td>\n",
       "    </tr>\n",
       "    <tr>\n",
       "      <th>658</th>\n",
       "      <td>True</td>\n",
       "      <td>True</td>\n",
       "    </tr>\n",
       "    <tr>\n",
       "      <th>659</th>\n",
       "      <td>True</td>\n",
       "      <td>True</td>\n",
       "    </tr>\n",
       "    <tr>\n",
       "      <th>660</th>\n",
       "      <td>True</td>\n",
       "      <td>True</td>\n",
       "    </tr>\n",
       "    <tr>\n",
       "      <th>661</th>\n",
       "      <td>True</td>\n",
       "      <td>True</td>\n",
       "    </tr>\n",
       "  </tbody>\n",
       "</table>\n",
       "<p>662 rows × 2 columns</p>\n",
       "</div>"
      ],
      "text/plain": [
       "      flag  Heuristics\n",
       "0    False       False\n",
       "1     True       False\n",
       "2     True        True\n",
       "3     True        True\n",
       "4     True        True\n",
       "..     ...         ...\n",
       "657   True        True\n",
       "658   True        True\n",
       "659   True        True\n",
       "660   True        True\n",
       "661   True        True\n",
       "\n",
       "[662 rows x 2 columns]"
      ]
     },
     "execution_count": 6,
     "metadata": {},
     "output_type": "execute_result"
    }
   ],
   "source": [
    "benchmark_flags"
   ]
  },
  {
   "cell_type": "code",
   "execution_count": 8,
   "id": "initial-discretion",
   "metadata": {},
   "outputs": [
    {
     "data": {
      "text/html": [
       "<div>\n",
       "<style scoped>\n",
       "    .dataframe tbody tr th:only-of-type {\n",
       "        vertical-align: middle;\n",
       "    }\n",
       "\n",
       "    .dataframe tbody tr th {\n",
       "        vertical-align: top;\n",
       "    }\n",
       "\n",
       "    .dataframe thead th {\n",
       "        text-align: right;\n",
       "    }\n",
       "</style>\n",
       "<table border=\"1\" class=\"dataframe\">\n",
       "  <thead>\n",
       "    <tr style=\"text-align: right;\">\n",
       "      <th></th>\n",
       "      <th>balanced accuracy</th>\n",
       "      <th>specificity</th>\n",
       "      <th>sensitivity (recall)</th>\n",
       "      <th>precision</th>\n",
       "    </tr>\n",
       "  </thead>\n",
       "  <tbody>\n",
       "    <tr>\n",
       "      <th>Heuristics</th>\n",
       "      <td>0.784977</td>\n",
       "      <td>0.625</td>\n",
       "      <td>0.944954</td>\n",
       "      <td>0.991974</td>\n",
       "    </tr>\n",
       "  </tbody>\n",
       "</table>\n",
       "</div>"
      ],
      "text/plain": [
       "            balanced accuracy  specificity  sensitivity (recall)  precision\n",
       "Heuristics           0.784977        0.625              0.944954   0.991974"
      ]
     },
     "execution_count": 8,
     "metadata": {},
     "output_type": "execute_result"
    }
   ],
   "source": [
    "positives_selection = benchmark_flags['flag']\n",
    "negatives_selection = np.logical_not(benchmark_flags['flag'])\n",
    "\n",
    "all_positives = positives_selection.sum()\n",
    "all_negatives = negatives_selection.sum()\n",
    "\n",
    "true_negatives = np.logical_not(benchmark_flags[negatives_selection][profile_names]).sum()\n",
    "true_positives = benchmark_flags[positives_selection][profile_names].sum()\n",
    "\n",
    "false_positives = np.logical_not(benchmark_flags[negatives_selection][profile_names]).sum()\n",
    "\n",
    "sensitivity = true_positives / all_positives\n",
    "specificity = true_negatives / all_negatives\n",
    "\n",
    "precision = true_positives / (true_positives + false_positives)\n",
    "\n",
    "balanced_accuracy = (sensitivity + specificity) / 2\n",
    "\n",
    "train_benchmarks = pd.DataFrame(\n",
    "    data=[balanced_accuracy, specificity, sensitivity, precision],\n",
    "    index=['balanced accuracy', 'specificity', 'sensitivity (recall)',\n",
    "           'precision']).T\n",
    "\n",
    "train_benchmarks"
   ]
  },
  {
   "cell_type": "code",
   "execution_count": 14,
   "id": "cubic-frank",
   "metadata": {},
   "outputs": [],
   "source": [
    "train_benchmarks.to_hdf(join(outputs_path, 'bawe_train_benchmarks.hdf5'), key='bawe_train_benchmarks')"
   ]
  },
  {
   "cell_type": "code",
   "execution_count": 20,
   "id": "different-demographic",
   "metadata": {},
   "outputs": [
    {
     "data": {
      "text/plain": [
       "pospca        10\n",
       "heuristics     3\n",
       "dtype: int64"
      ]
     },
     "execution_count": 20,
     "metadata": {},
     "output_type": "execute_result"
    }
   ],
   "source": [
    "benchmark_flags[negatives_selection][profile_names].sum()"
   ]
  },
  {
   "cell_type": "code",
   "execution_count": 16,
   "id": "buried-perception",
   "metadata": {},
   "outputs": [
    {
     "data": {
      "text/plain": [
       "0.7"
      ]
     },
     "execution_count": 16,
     "metadata": {},
     "output_type": "execute_result"
    }
   ],
   "source": [
    "7 / (10)"
   ]
  },
  {
   "cell_type": "code",
   "execution_count": 5,
   "id": "racial-money",
   "metadata": {},
   "outputs": [],
   "source": [
    "benchmark_results.to_hdf(join(preprocess_path, 'benchmark_results.hdf5'), key='benchmark_results')"
   ]
  },
  {
   "cell_type": "code",
   "execution_count": 6,
   "id": "loved-artwork",
   "metadata": {
    "collapsed": false,
    "jupyter": {
     "outputs_hidden": false
    },
    "pycharm": {
     "name": "#%%\n"
    }
   },
   "outputs": [
    {
     "data": {
      "text/html": [
       "<div>\n",
       "<style scoped>\n",
       "    .dataframe tbody tr th:only-of-type {\n",
       "        vertical-align: middle;\n",
       "    }\n",
       "\n",
       "    .dataframe tbody tr th {\n",
       "        vertical-align: top;\n",
       "    }\n",
       "\n",
       "    .dataframe thead th {\n",
       "        text-align: right;\n",
       "    }\n",
       "</style>\n",
       "<table border=\"1\" class=\"dataframe\">\n",
       "  <thead>\n",
       "    <tr style=\"text-align: right;\">\n",
       "      <th></th>\n",
       "      <th>flag</th>\n",
       "      <th>pospca</th>\n",
       "      <th>heuristics</th>\n",
       "    </tr>\n",
       "  </thead>\n",
       "  <tbody>\n",
       "    <tr>\n",
       "      <th>0</th>\n",
       "      <td>False</td>\n",
       "      <td>0.000000</td>\n",
       "      <td>0.000000</td>\n",
       "    </tr>\n",
       "    <tr>\n",
       "      <th>1</th>\n",
       "      <td>True</td>\n",
       "      <td>0.000000</td>\n",
       "      <td>0.000000</td>\n",
       "    </tr>\n",
       "    <tr>\n",
       "      <th>2</th>\n",
       "      <td>True</td>\n",
       "      <td>0.000000</td>\n",
       "      <td>0.000000</td>\n",
       "    </tr>\n",
       "    <tr>\n",
       "      <th>3</th>\n",
       "      <td>True</td>\n",
       "      <td>0.000000</td>\n",
       "      <td>0.000000</td>\n",
       "    </tr>\n",
       "    <tr>\n",
       "      <th>4</th>\n",
       "      <td>True</td>\n",
       "      <td>0.000000</td>\n",
       "      <td>0.000000</td>\n",
       "    </tr>\n",
       "    <tr>\n",
       "      <th>...</th>\n",
       "      <td>...</td>\n",
       "      <td>...</td>\n",
       "      <td>...</td>\n",
       "    </tr>\n",
       "    <tr>\n",
       "      <th>978</th>\n",
       "      <td>True</td>\n",
       "      <td>0.000000</td>\n",
       "      <td>0.005036</td>\n",
       "    </tr>\n",
       "    <tr>\n",
       "      <th>979</th>\n",
       "      <td>True</td>\n",
       "      <td>0.002207</td>\n",
       "      <td>0.006970</td>\n",
       "    </tr>\n",
       "    <tr>\n",
       "      <th>980</th>\n",
       "      <td>True</td>\n",
       "      <td>0.000000</td>\n",
       "      <td>0.338741</td>\n",
       "    </tr>\n",
       "    <tr>\n",
       "      <th>981</th>\n",
       "      <td>True</td>\n",
       "      <td>0.000000</td>\n",
       "      <td>0.108420</td>\n",
       "    </tr>\n",
       "    <tr>\n",
       "      <th>982</th>\n",
       "      <td>True</td>\n",
       "      <td>0.000010</td>\n",
       "      <td>0.552413</td>\n",
       "    </tr>\n",
       "  </tbody>\n",
       "</table>\n",
       "<p>983 rows × 3 columns</p>\n",
       "</div>"
      ],
      "text/plain": [
       "      flag    pospca  heuristics\n",
       "0    False  0.000000    0.000000\n",
       "1     True  0.000000    0.000000\n",
       "2     True  0.000000    0.000000\n",
       "3     True  0.000000    0.000000\n",
       "4     True  0.000000    0.000000\n",
       "..     ...       ...         ...\n",
       "978   True  0.000000    0.005036\n",
       "979   True  0.002207    0.006970\n",
       "980   True  0.000000    0.338741\n",
       "981   True  0.000000    0.108420\n",
       "982   True  0.000010    0.552413\n",
       "\n",
       "[983 rows x 3 columns]"
      ]
     },
     "execution_count": 6,
     "metadata": {},
     "output_type": "execute_result"
    }
   ],
   "source": [
    "benchmark_results = pd.read_hdf(join(preprocess_path, 'benchmark_results.hdf5'))\n",
    "\n",
    "benchmark_results"
   ]
  }
 ],
 "metadata": {
  "kernelspec": {
   "display_name": "Python [conda env:avpd]",
   "language": "python",
   "name": "conda-env-avpd-xpython"
  },
  "language_info": {
   "file_extension": ".py",
   "mimetype": "text/x-python",
   "name": "python",
   "version": "3.7.9"
  }
 },
 "nbformat": 4,
 "nbformat_minor": 5
}
