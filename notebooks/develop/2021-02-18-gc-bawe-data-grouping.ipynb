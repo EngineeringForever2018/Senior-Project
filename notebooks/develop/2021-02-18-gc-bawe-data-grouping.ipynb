{
 "cells": [
  {
   "cell_type": "code",
   "execution_count": 1,
   "id": "common-middle",
   "metadata": {},
   "outputs": [],
   "source": [
    "import pickle\n",
    "import os\n",
    "from tqdm import tqdm"
   ]
  },
  {
   "cell_type": "code",
   "execution_count": 2,
   "id": "advance-jones",
   "metadata": {},
   "outputs": [],
   "source": [
    "with open('../data/bawe_splits.p', 'rb') as f:\n",
    "    splits = pickle.load(f)"
   ]
  },
  {
   "cell_type": "code",
   "execution_count": 6,
   "id": "exclusive-deputy",
   "metadata": {},
   "outputs": [
    {
     "name": "stderr",
     "output_type": "stream",
     "text": [
      "100%|##########| 2577/2577 [00:31<00:00, 80.67it/s] \n"
     ]
    }
   ],
   "source": [
    "if not os.path.isdir('../data/preprocess/bawe-group'):\n",
    "    os.mkdir('../data/preprocess/bawe-group')\n",
    "\n",
    "for filename in tqdm(splits['train']):\n",
    "    id = filename[:4]\n",
    "    with open(f'../data/bawe/CORPUS_TXT/{filename}', 'r') as f:\n",
    "        if not os.path.isdir(f'../data/preprocess/bawe-group/{id}'):\n",
    "            os.mkdir(f'../data/preprocess/bawe-group/{id}')\n",
    "\n",
    "        text = f.read()\n",
    "\n",
    "        with open(f'../data/preprocess/bawe-group/{id}/{filename}', 'w') as wf:\n",
    "            wf.write(text)"
   ]
  }
 ],
 "metadata": {
  "kernelspec": {
   "display_name": "Python [conda env:avpd]",
   "language": "python",
   "name": "conda-env-avpd-xpython"
  },
  "language_info": {
   "file_extension": ".py",
   "mimetype": "text/x-python",
   "name": "python",
   "version": "3.7.9"
  }
 },
 "nbformat": 4,
 "nbformat_minor": 5
}
