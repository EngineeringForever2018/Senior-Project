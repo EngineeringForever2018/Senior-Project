{
 "cells": [
  {
   "cell_type": "code",
   "execution_count": 2,
   "metadata": {
    "collapsed": true
   },
   "outputs": [],
   "source": [
    "\n",
    "import pandas as pd"
   ]
  },
  {
   "cell_type": "code",
   "execution_count": 3,
   "outputs": [],
   "source": [
    "gut_df = pd.read_hdf('../data/gutenberg-sentences/train-no-shuffle.hdf5')"
   ],
   "metadata": {
    "collapsed": false,
    "pycharm": {
     "name": "#%%\n"
    }
   }
  },
  {
   "cell_type": "code",
   "execution_count": 5,
   "outputs": [
    {
     "data": {
      "text/plain": "<pandas.core.groupby.generic.DataFrameGroupBy object at 0x7ff369eeed90>"
     },
     "execution_count": 5,
     "metadata": {},
     "output_type": "execute_result"
    }
   ],
   "source": [
    "gut_df.groupby('id')"
   ],
   "metadata": {
    "collapsed": false,
    "pycharm": {
     "name": "#%%\n"
    }
   }
  },
  {
   "cell_type": "code",
   "execution_count": 6,
   "outputs": [
    {
     "data": {
      "text/plain": "       id                                           sentence\n0       7  ﻿The Project Gutenberg EBook of Pollony Undive...\n1       7  This eBook is for the use of anyone anywhere a...\n2       7  You may copy it, give it away or\\nre-use it un...\n3       7  included\\nwith this eBook or online at www.gut...\n4       7                                             Title:\n...    ..                                                ...\n36671  19  Project Gutenberg-tm eBooks are often created ...\n36672  19  Thus, we do not necessarily\\nkeep eBooks in co...\n36673  19  Most people start at our Web site which has th...\n36674  19  This Web site includes information about Proje...\n36675  19  Archive Foundation, how to help produce our ne...\n\n[64795 rows x 2 columns]",
      "text/html": "<div>\n<style scoped>\n    .dataframe tbody tr th:only-of-type {\n        vertical-align: middle;\n    }\n\n    .dataframe tbody tr th {\n        vertical-align: top;\n    }\n\n    .dataframe thead th {\n        text-align: right;\n    }\n</style>\n<table border=\"1\" class=\"dataframe\">\n  <thead>\n    <tr style=\"text-align: right;\">\n      <th></th>\n      <th>id</th>\n      <th>sentence</th>\n    </tr>\n  </thead>\n  <tbody>\n    <tr>\n      <th>0</th>\n      <td>7</td>\n      <td>﻿The Project Gutenberg EBook of Pollony Undive...</td>\n    </tr>\n    <tr>\n      <th>1</th>\n      <td>7</td>\n      <td>This eBook is for the use of anyone anywhere a...</td>\n    </tr>\n    <tr>\n      <th>2</th>\n      <td>7</td>\n      <td>You may copy it, give it away or\\nre-use it un...</td>\n    </tr>\n    <tr>\n      <th>3</th>\n      <td>7</td>\n      <td>included\\nwith this eBook or online at www.gut...</td>\n    </tr>\n    <tr>\n      <th>4</th>\n      <td>7</td>\n      <td>Title:</td>\n    </tr>\n    <tr>\n      <th>...</th>\n      <td>...</td>\n      <td>...</td>\n    </tr>\n    <tr>\n      <th>36671</th>\n      <td>19</td>\n      <td>Project Gutenberg-tm eBooks are often created ...</td>\n    </tr>\n    <tr>\n      <th>36672</th>\n      <td>19</td>\n      <td>Thus, we do not necessarily\\nkeep eBooks in co...</td>\n    </tr>\n    <tr>\n      <th>36673</th>\n      <td>19</td>\n      <td>Most people start at our Web site which has th...</td>\n    </tr>\n    <tr>\n      <th>36674</th>\n      <td>19</td>\n      <td>This Web site includes information about Proje...</td>\n    </tr>\n    <tr>\n      <th>36675</th>\n      <td>19</td>\n      <td>Archive Foundation, how to help produce our ne...</td>\n    </tr>\n  </tbody>\n</table>\n<p>64795 rows × 2 columns</p>\n</div>"
     },
     "execution_count": 6,
     "metadata": {},
     "output_type": "execute_result"
    }
   ],
   "source": [
    "gut_df"
   ],
   "metadata": {
    "collapsed": false,
    "pycharm": {
     "name": "#%%\n"
    }
   }
  },
  {
   "cell_type": "code",
   "execution_count": null,
   "outputs": [],
   "source": [
    "count = 0\n",
    "paragraph = \"\"\n",
    "paragraphs = []\n",
    "ids = []\n",
    "for _, row in gut_df.iterrows():\n",
    "    paragraph += row['sentence']\n",
    "    \n",
    "    if count == 3:\n",
    "        paragraphs.append(paragraph)\n",
    "        ids.append(row['id'])\n",
    "        \n",
    "        count = 0\n",
    "    else:\n",
    "        count += 1\n",
    "\n",
    "par_gut_df = pd.DataFrame({'id': ids, 'paragraph': paragraphs})"
   ],
   "metadata": {
    "collapsed": false,
    "pycharm": {
     "name": "#%%\n"
    }
   }
  }
 ],
 "metadata": {
  "kernelspec": {
   "display_name": "Python 3",
   "language": "python",
   "name": "python3"
  },
  "language_info": {
   "codemirror_mode": {
    "name": "ipython",
    "version": 2
   },
   "file_extension": ".py",
   "mimetype": "text/x-python",
   "name": "python",
   "nbconvert_exporter": "python",
   "pygments_lexer": "ipython2",
   "version": "2.7.6"
  }
 },
 "nbformat": 4,
 "nbformat_minor": 0
}