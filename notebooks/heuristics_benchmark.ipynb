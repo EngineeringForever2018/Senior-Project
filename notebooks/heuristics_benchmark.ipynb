{
 "cells": [
  {
   "cell_type": "code",
   "execution_count": 6,
   "metadata": {},
   "outputs": [],
   "source": [
    "import numpy as np\n",
    "import xml.etree.ElementTree as ET\n",
    "from parsed_doc import ParsedDoc\n",
    "from scipy.stats import norm"
   ]
  },
  {
   "cell_type": "markdown",
   "metadata": {},
   "source": [
    "# Heuristics\n",
    "\n",
    "We are going to build a profile of a person's writing based on basic heuristics such as word to period ratio and comma to period ratio. This will be very inaccurate but will serve as a benchmark for future methods of determining characteristics of a person's writing.\n",
    "\n",
    "We will use data from https://u.cs.biu.ac.il/~koppel/BlogCorpus.htm to do our tests."
   ]
  },
  {
   "cell_type": "code",
   "execution_count": 8,
   "metadata": {},
   "outputs": [
    {
     "data": {
      "text/plain": [
       "['U.S. News and World Report announced Tuesday, March 17 that the graduate programs at the College of Education at the University of Nevada, Reno has been ranked at 95, jumping up from 110, joining an elite series of institutions as one of the top 100 graduate schools for education across the United States. \\n\\n“We are incredibly excited about our new ranking, which is a clear indication that our programs are not only world-class but that they are a key asset for improving Nevada’s education system,”  Dean of the College of Education Donald Easton-Brooks said.\\n\\nEvery year, U.S. News and World Report consider two factors when ranking graduate schools. The first consists of expert opinions about the quality of the program, while the second consists of statistical measures of the program that changes based on what type of school is being ranked. For education, some other influences on the rank of the college are faculty resources and research activity.\\n\\nThe College of Education offers top tier programs that provide comprehensive instruction and mentorship to their students, contributing to the University’s status as an R1 institution. The College of Education has various accreditations from multiple organizations in different fields and offers programs for undergraduates, master’s students and doctoral students.\\n\\n“As our programs continue to grow and innovate, we are positioning our graduate students to go out into the world as leaders and change agents for improving education worldwide,” Dean Easton-Brooks said. “The future is our opportunity and we fully expect to harness this notion to further improve our programs.”',\n",
       " \"Student teachers who identify as LGBTQ+ face a number of challenges while navigating their education- both in the university and public schools where they student teach. The U.S. Supreme Court decision last week on worker’s rights takes away one of those concerns, but many remain.\\n\\nDeciding when to come out, and where, is perhaps one of the most trying decisions a student-teacher faces, especially if it can get you fired.\\n\\nA new research-based article “On Becoming an LGBTQ+ Identifying Teacher: A Year-Long Study of Two Gay and Lesbian Preservice Elementary Teachers,” published in the Journal of Homosexuality – a top academic journal, offers suggestions for teacher education programs about often overlooked ways to recruit, support and advocate for LGBTQ+ pre-service teachers.\\n\\nThe small amount of research on this topic, to date, has typically focused on the experiences of LGBTQ+ educators already actively working in public schools. In this year-long, qualitative case study, William Toledo and co-author Bridget Maher present the experiences, perspectives and challenges of two elementary preservice teachers who identify as gay and lesbian through their year-long student-teaching placement.\\n\\nOne student identified as a cisgender gay male and the other as a cisgender lesbian female. Through a year of study, researchers learned of the experiences of these two LGBTQ+-identifying student teachers, which, Toledo and Maher contend, may represent similar issues for other queer-identifying student teachers.\\n\\nWilliam Toledo\\nWilliam Toledo, Ph.D.\\n“We’ve looked at the experiences of practicing teachers who are in the LGBTQ+ community, but the pre-service teacher dynamics are like a triangle instead of a straight line,” Toledo, assistant professor of elementary social studies education at the University of Nevada, Reno, said. “In terms of the triangle, LGBTQ+ pre-service teachers have to navigate three separate contexts:  public schools, student teaching and field placement seminars, and methods courses and other university-based courses. In each context, these teachers make decisions about whether to be “out” or not, based on their comfort level, and other factors.”\\n\\nToledo’s study mentions that LGTBQ+ students must navigate difficulties in multiple different avenues within classrooms, universities and college preparation. LGBTQ+ teachers can face discrimination from all these places. \\n\\n“The big implication was we need purposeful and pragmatic university involvement in the placement of our student teachers and the structuring of our courses and what we include in terms of our diversity themes,” Toledo said.\\n\\nSome of the experiences during the year of the study included student teachers suspecting that their mentor held anti-LGBTQ+ beliefs or needing to keep the classroom door open and all students visible from the hall from fear of falling victim to dated prejudices. \\n\\n“For gay males, there's a stigmatized idea, a stereotype rooted in homophobia, that one could be a pedophile,” Toledo said. “Our participant felt like that negative stereotype scared him. If there's a male teacher, particularly a gay male teacher, teaching young students, it can be seen as inappropriate to people who hold prejudiced views.”\\nBoth participants of the study said that their biweekly meetings with the researchers helped them be more prepared to face these unique challenges where many supports for LGTBQ+ future teachers wouldn’t have existed otherwise. Topics covered within the study included examining LGBTQ+ legislation and diversity in curriculum and classroom resources. The findings can be broadly applied to conclude that not enough support exists for LGBTQ+ teaching candidates during the mentorship process, and in general.\\n\\nThese studies highlight that discrimination, mistreatment, harassment and silencing of queer teachers and students is still prevalent. The student subject’s experiences display the confusion, difficulties and feelings of insecurity that LGBTQ+-identifying preservice teachers may experience as they navigate the educator training and are prepared to enter the teaching profession.\\n\\nThe study also highlights that safe, common spaces to discuss pertinent issues related to the lives of LGBTQ+ teachers, similar to the ones we provided in our focus groups, are beneficial and may act as mediators between the lived realities of LGBTQ+-identifying individuals and the current lack of support and resources available to them in many universities, colleges and other teacher preparation programs.\\n\\n“Research has shown how important it is to have diverse and representative teachers in schools,” said Maher, a research fellow at the University of Michigan. “Students report increased feelings of safety, inclusiveness, visibility, and even increased academic success when teachers represent a diverse group of identities. LGBTQ+ identities are no different.”\\n\\nThe study suggested further research into changes that should be done within universities and teacher preparation programs. Toledo said that universities need to start updating what diversity means to them.\\n\\n“If we’re talking about diversity, we need LGBTQ+ teachers in schools, especially for youths who don’t have that support at home,” Toledo said. “That’s such a resource and a gift, but it’s one of those things where if we’re not bringing them into teaching programs that are inclusive, effective and recognize the importance of teacher and student identities, they’re leaving.”\\n\\n“If you're somebody who doesn't believe that the person you're working with even has a right to exist on the same level as you, how are you going to mentor them and how are they going to be mentored by you?” Toledo said.\"]"
      ]
     },
     "execution_count": 8,
     "metadata": {},
     "output_type": "execute_result"
    }
   ],
   "source": [
    "tree = ET.parse('example.xml')\n",
    "\n",
    "posts = tree.findall('post')\n",
    "posts = [post.text for post in posts]\n",
    "\n",
    "post1 = open('1.txt').read()\n",
    "post2 = open('2.txt').read()\n",
    "\n",
    "posts = [\n",
    "    post1,\n",
    "    post2\n",
    "]\n",
    "\n",
    "posts"
   ]
  },
  {
   "cell_type": "code",
   "execution_count": 9,
   "metadata": {},
   "outputs": [],
   "source": [
    "parsedPosts = [ParsedDoc(post) for post in posts]\n",
    "postData = np.array([[post.getPToWRatio(), post.getAverageWordLength()] for post in parsedPosts])"
   ]
  },
  {
   "cell_type": "code",
   "execution_count": 10,
   "metadata": {},
   "outputs": [],
   "source": [
    "profile = postData[:-1]\n",
    "profileMean = profile.sum(axis=0) / len(profile)\n",
    "profileSquaredMean = (profile**2).sum(axis=0) / len(profile)\n",
    "profileSD = np.sqrt(profileSquaredMean - profileMean**2)"
   ]
  },
  {
   "cell_type": "code",
   "execution_count": 11,
   "metadata": {},
   "outputs": [
    {
     "name": "stdout",
     "output_type": "stream",
     "text": [
      "[0. 0.]\n"
     ]
    },
    {
     "name": "stderr",
     "output_type": "stream",
     "text": [
      "/home/gchristensen/anaconda3/envs/mlworkspace/lib/python3.7/site-packages/ipykernel_launcher.py:1: RuntimeWarning: divide by zero encountered in true_divide\n",
      "  \"\"\"Entry point for launching an IPython kernel.\n",
      "/home/gchristensen/anaconda3/envs/mlworkspace/lib/python3.7/site-packages/ipykernel_launcher.py:1: RuntimeWarning: invalid value encountered in true_divide\n",
      "  \"\"\"Entry point for launching an IPython kernel.\n"
     ]
    }
   ],
   "source": [
    "postDataStandardized = (postData - profileMean) / profileSD\n",
    "lastEssayABS = abs(postDataStandardized[-1])\n",
    "\n",
    "pValues = 1. - (norm.cdf(lastEssayABS) - norm.cdf(-1 * lastEssayABS))\n",
    "pValues *= 100\n",
    "pValues\n",
    "\n",
    "print(pValues)"
   ]
  }
 ],
 "metadata": {
  "kernelspec": {
   "display_name": "Python 3",
   "language": "python",
   "name": "python3"
  },
  "language_info": {
   "codemirror_mode": {
    "name": "ipython",
    "version": 3
   },
   "file_extension": ".py",
   "mimetype": "text/x-python",
   "name": "python",
   "nbconvert_exporter": "python",
   "pygments_lexer": "ipython3",
   "version": "3.7.9"
  }
 },
 "nbformat": 4,
 "nbformat_minor": 4
}
