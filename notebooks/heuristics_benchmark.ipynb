{
 "cells": [
  {
   "cell_type": "code",
   "execution_count": 15,
   "metadata": {},
   "outputs": [],
   "source": [
    "import numpy as np\n",
    "import xml.etree.ElementTree as ET\n",
    "from parsed_doc import ParsedDoc\n",
    "from scipy.stats import norm"
   ]
  },
  {
   "cell_type": "markdown",
   "metadata": {},
   "source": [
    "# Heuristics\n",
    "\n",
    "We are going to build a profile of a person's writing based on basic heuristics such as word to period ratio and comma to period ratio. This will be very inaccurate but will serve as a benchmark for future methods of determining characteristics of a person's writing.\n",
    "\n",
    "We will use data from https://u.cs.biu.ac.il/~koppel/BlogCorpus.htm to do our tests."
   ]
  },
  {
   "cell_type": "code",
   "execution_count": 16,
   "metadata": {},
   "outputs": [],
   "source": [
    "tree = ET.parse('example.xml')\n",
    "\n",
    "posts = tree.findall('post')\n",
    "posts = [post.text for post in posts]"
   ]
  },
  {
   "cell_type": "code",
   "execution_count": 17,
   "metadata": {},
   "outputs": [],
   "source": [
    "parsedPosts = [ParsedDoc(post) for post in posts]\n",
    "postData = np.array([[post.getPToWRatio(), post.getAverageWordLength()] for post in parsedPosts])"
   ]
  },
  {
   "cell_type": "code",
   "execution_count": 18,
   "metadata": {},
   "outputs": [],
   "source": [
    "profile = postData[:-1]\n",
    "profileMean = profile.sum(axis=0) / len(profile)\n",
    "profileSquaredMean = (profile**2).sum(axis=0) / len(profile)\n",
    "profileSD = np.sqrt(profileSquaredMean - profileMean**2)"
   ]
  },
  {
   "cell_type": "code",
   "execution_count": 23,
   "metadata": {},
   "outputs": [
    {
     "data": {
      "text/plain": [
       "array([ 7.10988082, 66.9195086 ])"
      ]
     },
     "execution_count": 23,
     "metadata": {},
     "output_type": "execute_result"
    }
   ],
   "source": [
    "postDataStandardized = (postData - profileMean) / profileSD\n",
    "lastEssayABS = abs(postDataStandardized[-1])\n",
    "\n",
    "pValues = 1. - (norm.cdf(lastEssayABS) - norm.cdf(-1 * lastEssayABS))\n",
    "pValues *= 100\n",
    "pValues"
   ]
  }
 ],
 "metadata": {
  "kernelspec": {
   "display_name": "Python 3",
   "language": "python",
   "name": "python3"
  },
  "language_info": {
   "codemirror_mode": {
    "name": "ipython",
    "version": 3
   },
   "file_extension": ".py",
   "mimetype": "text/x-python",
   "name": "python",
   "nbconvert_exporter": "python",
   "pygments_lexer": "ipython3",
   "version": "3.7.9"
  }
 },
 "nbformat": 4,
 "nbformat_minor": 4
}
