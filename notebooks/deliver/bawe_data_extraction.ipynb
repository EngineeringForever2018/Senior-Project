{
 "cells": [
  {
   "cell_type": "code",
   "execution_count": 1,
   "id": "hidden-kelly",
   "metadata": {},
   "outputs": [],
   "source": [
    "import os\n",
    "from os.path import join\n",
    "import pandas as pd\n",
    "from pathlib import Path\n",
    "import pickle\n",
    "import spacy\n",
    "import sys\n",
    "from tqdm import tqdm\n",
    "\n",
    "project_root = Path('..')\n",
    "sys.path.append(os.path.abspath(project_root))\n",
    "from notebooks.utils import init_data_dir  # noqa\n",
    "\n",
    "init_data_dir(project_root)\n",
    "\n",
    "raw_path = Path('../data/raw')\n",
    "preprocess_path = Path('../data/preprocess')\n",
    "resources_path = Path('../resources')\n",
    "\n",
    "nlp = spacy.load('en_core_web_sm')"
   ]
  },
  {
   "cell_type": "markdown",
   "id": "intensive-memorial",
   "metadata": {},
   "source": [
    "# Extracting the British Academic Written English Corpus\n",
    "\n",
    "This script is for extracting essays from the British Academic Written English Corpus (BAWE)[<sup>1</sup>](#fn1). The corpus contains about 3000 student assignments from four different disciplinary areas: Arts and Humanities, Social Sciences, Life Sciences, and Physical Sciences. These assignments are further distributed across four levels of study. \n",
    "\n",
    "### Benefits\n",
    "* There are ~300,000 sentences within the corpus, which is enough data for fairly high-parametric models, though likely not enough for neural networks.\n",
    "* The corpus is made up of university-level essays, which is close to the data that our program will encounter.\n",
    "* There are many authors in the dataset, so a wide range of writing style is represented.\n",
    "\n",
    "### Flaws\n",
    "* Peering through the dataset, the essays seem to mostly be for different prompts. More investigation is needed here. Having examples of essays from the same prompt is desirable so that style differences between very similar essays can be tested.\n",
    "* Having a large set of authors means that the dataset is unbalanced when considering one author vs. the rest."
   ]
  },
  {
   "cell_type": "markdown",
   "id": "broken-buddy",
   "metadata": {},
   "source": [
    "## Instructions\n",
    "\n",
    "First, download the BAWE data and extract it into the `/data/raw` directory. Move the `download` folder into the `/data/raw` directory, and rename it to `bawe`. The data directory should look like this:\n",
    "\n",
    "```\n",
    "|-- data\n",
    "|   |-- raw\n",
    "|   |   |-- bawe\n",
    "|   |   |   |-- CORPUS_ASCII\n",
    "|   |   |   |-- CORPUS_ByDisc\n",
    "|   |   |   |-- ...\n",
    "```\n",
    "\n",
    "Now, run the following code cells to process the data into a pandas dataframe. The dataframe will be saved as `/data/preprocess/bawe_df.hdf5`."
   ]
  },
  {
   "cell_type": "code",
   "execution_count": 2,
   "id": "wrong-basement",
   "metadata": {},
   "outputs": [],
   "source": [
    "def bawe_texts(filenames):\n",
    "    # We use the plain text version of the corpus\n",
    "    corpus_path = join(raw_path, Path('bawe/CORPUS_TXT'))\n",
    "\n",
    "    for filename in tqdm(filenames):\n",
    "        # The first 4 characters of the filename indicate the author, 5th\n",
    "        # character indicates the genre.\n",
    "        author = int(filename[:4])\n",
    "        genre = filename[4]\n",
    "\n",
    "        with open(join(corpus_path, filename), 'r') as f:\n",
    "            text = f.read()\n",
    "\n",
    "        yield author, genre, text"
   ]
  },
  {
   "cell_type": "code",
   "execution_count": 3,
   "id": "developed-quarter",
   "metadata": {},
   "outputs": [
    {
     "name": "stderr",
     "output_type": "stream",
     "text": [
      "100%|██████████| 2577/2577 [00:00<00:00, 24873.94it/s]\n"
     ]
    },
    {
     "data": {
      "text/html": [
       "<div>\n",
       "<style scoped>\n",
       "    .dataframe tbody tr th:only-of-type {\n",
       "        vertical-align: middle;\n",
       "    }\n",
       "\n",
       "    .dataframe tbody tr th {\n",
       "        vertical-align: top;\n",
       "    }\n",
       "\n",
       "    .dataframe thead th {\n",
       "        text-align: right;\n",
       "    }\n",
       "</style>\n",
       "<table border=\"1\" class=\"dataframe\">\n",
       "  <thead>\n",
       "    <tr style=\"text-align: right;\">\n",
       "      <th></th>\n",
       "      <th>author</th>\n",
       "      <th>genre</th>\n",
       "      <th>text</th>\n",
       "    </tr>\n",
       "  </thead>\n",
       "  <tbody>\n",
       "    <tr>\n",
       "      <th>0</th>\n",
       "      <td>1</td>\n",
       "      <td>a</td>\n",
       "      <td>Racism is still a problem within our society t...</td>\n",
       "    </tr>\n",
       "    <tr>\n",
       "      <th>1</th>\n",
       "      <td>1</td>\n",
       "      <td>b</td>\n",
       "      <td>Official statistics are those produced by eith...</td>\n",
       "    </tr>\n",
       "    <tr>\n",
       "      <th>2</th>\n",
       "      <td>1</td>\n",
       "      <td>c</td>\n",
       "      <td>Since the fourteenth century the practice of m...</td>\n",
       "    </tr>\n",
       "    <tr>\n",
       "      <th>3</th>\n",
       "      <td>1</td>\n",
       "      <td>d</td>\n",
       "      <td>Much more reproductive choice is now available...</td>\n",
       "    </tr>\n",
       "    <tr>\n",
       "      <th>4</th>\n",
       "      <td>2</td>\n",
       "      <td>a</td>\n",
       "      <td>Victorian notions of women's madness were larg...</td>\n",
       "    </tr>\n",
       "    <tr>\n",
       "      <th>...</th>\n",
       "      <td>...</td>\n",
       "      <td>...</td>\n",
       "      <td>...</td>\n",
       "    </tr>\n",
       "    <tr>\n",
       "      <th>2572</th>\n",
       "      <td>6998</td>\n",
       "      <td>a</td>\n",
       "      <td>E. Warwick Slinn describes dramatic monologue ...</td>\n",
       "    </tr>\n",
       "    <tr>\n",
       "      <th>2573</th>\n",
       "      <td>6998</td>\n",
       "      <td>b</td>\n",
       "      <td>Hugh Blair voices an attack on the practices o...</td>\n",
       "    </tr>\n",
       "    <tr>\n",
       "      <th>2574</th>\n",
       "      <td>6998</td>\n",
       "      <td>c</td>\n",
       "      <td>'The first thing to remember about Donne,' wri...</td>\n",
       "    </tr>\n",
       "    <tr>\n",
       "      <th>2575</th>\n",
       "      <td>6998</td>\n",
       "      <td>d</td>\n",
       "      <td>Susan Wiseman calculated that the latest possi...</td>\n",
       "    </tr>\n",
       "    <tr>\n",
       "      <th>2576</th>\n",
       "      <td>6998</td>\n",
       "      <td>e</td>\n",
       "      <td>Ibsen's Hedda Gabler and Lorca's Yerma display...</td>\n",
       "    </tr>\n",
       "  </tbody>\n",
       "</table>\n",
       "<p>2577 rows × 3 columns</p>\n",
       "</div>"
      ],
      "text/plain": [
       "      author genre                                               text\n",
       "0          1     a  Racism is still a problem within our society t...\n",
       "1          1     b  Official statistics are those produced by eith...\n",
       "2          1     c  Since the fourteenth century the practice of m...\n",
       "3          1     d  Much more reproductive choice is now available...\n",
       "4          2     a  Victorian notions of women's madness were larg...\n",
       "...      ...   ...                                                ...\n",
       "2572    6998     a  E. Warwick Slinn describes dramatic monologue ...\n",
       "2573    6998     b  Hugh Blair voices an attack on the practices o...\n",
       "2574    6998     c  'The first thing to remember about Donne,' wri...\n",
       "2575    6998     d  Susan Wiseman calculated that the latest possi...\n",
       "2576    6998     e  Ibsen's Hedda Gabler and Lorca's Yerma display...\n",
       "\n",
       "[2577 rows x 3 columns]"
      ]
     },
     "execution_count": 3,
     "metadata": {},
     "output_type": "execute_result"
    }
   ],
   "source": [
    "with open(join(resources_path, 'bawe_splits.p'), 'rb') as f:\n",
    "    bawe_splits = pickle.load(f)\n",
    "    train_filenames = bawe_splits['train']\n",
    "\n",
    "df = pd.DataFrame(bawe_texts(train_filenames),\n",
    "                  columns=['author', 'genre', 'text'])\n",
    "df = df.sort_values(by=['author', 'genre']).reset_index(drop=True)\n",
    "\n",
    "df"
   ]
  },
  {
   "cell_type": "code",
   "execution_count": 4,
   "id": "golden-think",
   "metadata": {},
   "outputs": [],
   "source": [
    "# print('Counting sentences...', flush=True)\n",
    "# sentence_counts = [len(list(nlp(text).sents)) for text in tqdm(df['text'])]"
   ]
  },
  {
   "cell_type": "code",
   "execution_count": 5,
   "id": "false-gasoline",
   "metadata": {},
   "outputs": [],
   "source": [
    "# df['sentence_count'] = sentence_counts\n",
    "\n",
    "# authors = set(df['author'])\n",
    "# sentence_count = sum(sentence_counts)\n",
    "# min_sentence_count = min(sentence_counts)\n",
    "# max_sentence_count = max(sentence_counts)\n",
    "# avg_sentence_count = sentence_count / len(sentence_counts)\n",
    "\n",
    "# print(f'Author count: {len(authors)}')\n",
    "# print(f'Sentence count: {sentence_count}')\n",
    "# print(f'Minimum sentence count: {min_sentence_count}')\n",
    "# print(f'Maximum sentence count: {max_sentence_count}')\n",
    "# print(f'Average sentence count: {avg_sentence_count}')\n",
    "\n",
    "# df"
   ]
  },
  {
   "cell_type": "code",
   "execution_count": 6,
   "id": "english-tucson",
   "metadata": {},
   "outputs": [],
   "source": [
    "df.to_hdf(join(preprocess_path, 'bawe_df.hdf5'), key='bawe_df')"
   ]
  },
  {
   "cell_type": "markdown",
   "id": "contained-maker",
   "metadata": {},
   "source": [
    "### References\n",
    "\n",
    "1. <span id=\"fn1\"> https://www.coventry.ac.uk/research/research-directories/current-projects/2015/british-academic-written-english-corpus-bawe/ </span>"
   ]
  }
 ],
 "metadata": {
  "kernelspec": {
   "display_name": "Python 3",
   "language": "python",
   "name": "python3"
  },
  "language_info": {
   "codemirror_mode": {
    "name": "ipython",
    "version": 3
   },
   "file_extension": ".py",
   "mimetype": "text/x-python",
   "name": "python",
   "nbconvert_exporter": "python",
   "pygments_lexer": "ipython3",
   "version": "3.9.4"
  }
 },
 "nbformat": 4,
 "nbformat_minor": 5
}
